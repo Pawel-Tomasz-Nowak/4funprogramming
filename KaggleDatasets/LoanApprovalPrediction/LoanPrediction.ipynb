{
 "cells": [
  {
   "cell_type": "markdown",
   "metadata": {},
   "source": [
    "### Reading the data and cleaning the data."
   ]
  },
  {
   "cell_type": "code",
   "execution_count": 33,
   "metadata": {},
   "outputs": [
    {
     "data": {
      "text/html": [
       "<div><style>\n",
       ".dataframe > thead > tr > th,\n",
       ".dataframe > tbody > tr > td {\n",
       "  text-align: right;\n",
       "  white-space: pre-wrap;\n",
       "}\n",
       "</style>\n",
       "<small>shape: (25, 14)</small><table border=\"1\" class=\"dataframe\"><thead><tr><th>ID</th><th>Loan_ID</th><th>Gender</th><th>Married</th><th>Dependents</th><th>Education</th><th>Self_Employed</th><th>ApplicantIncome</th><th>CoapplicantIncome</th><th>LoanAmount</th><th>Loan_Amount_Term</th><th>Credit_History</th><th>Property_Area</th><th>Loan_Status</th></tr><tr><td>i64</td><td>str</td><td>str</td><td>str</td><td>str</td><td>str</td><td>str</td><td>f64</td><td>f64</td><td>f64</td><td>f64</td><td>f64</td><td>str</td><td>str</td></tr></thead><tbody><tr><td>0</td><td>&quot;LP001003&quot;</td><td>&quot;Male&quot;</td><td>&quot;Yes&quot;</td><td>&quot;1&quot;</td><td>&quot;Graduate&quot;</td><td>&quot;No&quot;</td><td>4583.0</td><td>1508.0</td><td>128.0</td><td>360.0</td><td>1.0</td><td>&quot;Rural&quot;</td><td>&quot;N&quot;</td></tr><tr><td>1</td><td>&quot;LP001005&quot;</td><td>&quot;Male&quot;</td><td>&quot;Yes&quot;</td><td>&quot;0&quot;</td><td>&quot;Graduate&quot;</td><td>&quot;Yes&quot;</td><td>3000.0</td><td>0.0</td><td>66.0</td><td>360.0</td><td>1.0</td><td>&quot;Urban&quot;</td><td>&quot;Y&quot;</td></tr><tr><td>2</td><td>&quot;LP001006&quot;</td><td>&quot;Male&quot;</td><td>&quot;Yes&quot;</td><td>&quot;0&quot;</td><td>&quot;Not Graduate&quot;</td><td>&quot;No&quot;</td><td>2583.0</td><td>2358.0</td><td>120.0</td><td>360.0</td><td>1.0</td><td>&quot;Urban&quot;</td><td>&quot;Y&quot;</td></tr><tr><td>3</td><td>&quot;LP001008&quot;</td><td>&quot;Male&quot;</td><td>&quot;No&quot;</td><td>&quot;0&quot;</td><td>&quot;Graduate&quot;</td><td>&quot;No&quot;</td><td>6000.0</td><td>0.0</td><td>141.0</td><td>360.0</td><td>1.0</td><td>&quot;Urban&quot;</td><td>&quot;Y&quot;</td></tr><tr><td>4</td><td>&quot;LP001013&quot;</td><td>&quot;Male&quot;</td><td>&quot;Yes&quot;</td><td>&quot;0&quot;</td><td>&quot;Not Graduate&quot;</td><td>&quot;No&quot;</td><td>2333.0</td><td>1516.0</td><td>95.0</td><td>360.0</td><td>1.0</td><td>&quot;Urban&quot;</td><td>&quot;Y&quot;</td></tr><tr><td>5</td><td>&quot;LP001024&quot;</td><td>&quot;Male&quot;</td><td>&quot;Yes&quot;</td><td>&quot;2&quot;</td><td>&quot;Graduate&quot;</td><td>&quot;No&quot;</td><td>3200.0</td><td>700.0</td><td>70.0</td><td>360.0</td><td>1.0</td><td>&quot;Urban&quot;</td><td>&quot;Y&quot;</td></tr><tr><td>6</td><td>&quot;LP001027&quot;</td><td>&quot;Male&quot;</td><td>&quot;Yes&quot;</td><td>&quot;2&quot;</td><td>&quot;Graduate&quot;</td><td>null</td><td>2500.0</td><td>1840.0</td><td>109.0</td><td>360.0</td><td>1.0</td><td>&quot;Urban&quot;</td><td>&quot;Y&quot;</td></tr><tr><td>7</td><td>&quot;LP001029&quot;</td><td>&quot;Male&quot;</td><td>&quot;No&quot;</td><td>&quot;0&quot;</td><td>&quot;Graduate&quot;</td><td>&quot;No&quot;</td><td>1853.0</td><td>2840.0</td><td>114.0</td><td>360.0</td><td>1.0</td><td>&quot;Rural&quot;</td><td>&quot;N&quot;</td></tr><tr><td>8</td><td>&quot;LP001030&quot;</td><td>&quot;Male&quot;</td><td>&quot;Yes&quot;</td><td>&quot;2&quot;</td><td>&quot;Graduate&quot;</td><td>&quot;No&quot;</td><td>1299.0</td><td>1086.0</td><td>17.0</td><td>120.0</td><td>1.0</td><td>&quot;Urban&quot;</td><td>&quot;Y&quot;</td></tr><tr><td>9</td><td>&quot;LP001032&quot;</td><td>&quot;Male&quot;</td><td>&quot;No&quot;</td><td>&quot;0&quot;</td><td>&quot;Graduate&quot;</td><td>&quot;No&quot;</td><td>4950.0</td><td>0.0</td><td>125.0</td><td>360.0</td><td>1.0</td><td>&quot;Urban&quot;</td><td>&quot;Y&quot;</td></tr><tr><td>10</td><td>&quot;LP001034&quot;</td><td>&quot;Male&quot;</td><td>&quot;No&quot;</td><td>&quot;1&quot;</td><td>&quot;Not Graduate&quot;</td><td>&quot;No&quot;</td><td>3596.0</td><td>0.0</td><td>100.0</td><td>240.0</td><td>null</td><td>&quot;Urban&quot;</td><td>&quot;Y&quot;</td></tr><tr><td>11</td><td>&quot;LP001036&quot;</td><td>&quot;Female&quot;</td><td>&quot;No&quot;</td><td>&quot;0&quot;</td><td>&quot;Graduate&quot;</td><td>&quot;No&quot;</td><td>3510.0</td><td>0.0</td><td>76.0</td><td>360.0</td><td>0.0</td><td>&quot;Urban&quot;</td><td>&quot;N&quot;</td></tr><tr><td>12</td><td>&quot;LP001038&quot;</td><td>&quot;Male&quot;</td><td>&quot;Yes&quot;</td><td>&quot;0&quot;</td><td>&quot;Not Graduate&quot;</td><td>&quot;No&quot;</td><td>4887.0</td><td>0.0</td><td>133.0</td><td>360.0</td><td>1.0</td><td>&quot;Rural&quot;</td><td>&quot;N&quot;</td></tr><tr><td>13</td><td>&quot;LP001041&quot;</td><td>&quot;Male&quot;</td><td>&quot;Yes&quot;</td><td>&quot;0&quot;</td><td>&quot;Graduate&quot;</td><td>null</td><td>2600.0</td><td>3500.0</td><td>115.0</td><td>null</td><td>1.0</td><td>&quot;Urban&quot;</td><td>&quot;Y&quot;</td></tr><tr><td>14</td><td>&quot;LP001043&quot;</td><td>&quot;Male&quot;</td><td>&quot;Yes&quot;</td><td>&quot;0&quot;</td><td>&quot;Not Graduate&quot;</td><td>&quot;No&quot;</td><td>7660.0</td><td>0.0</td><td>104.0</td><td>360.0</td><td>0.0</td><td>&quot;Urban&quot;</td><td>&quot;N&quot;</td></tr><tr><td>15</td><td>&quot;LP001047&quot;</td><td>&quot;Male&quot;</td><td>&quot;Yes&quot;</td><td>&quot;0&quot;</td><td>&quot;Not Graduate&quot;</td><td>&quot;No&quot;</td><td>2600.0</td><td>1911.0</td><td>116.0</td><td>360.0</td><td>0.0</td><td>&quot;Semiurban&quot;</td><td>&quot;N&quot;</td></tr><tr><td>16</td><td>&quot;LP001050&quot;</td><td>null</td><td>&quot;Yes&quot;</td><td>&quot;2&quot;</td><td>&quot;Not Graduate&quot;</td><td>&quot;No&quot;</td><td>3365.0</td><td>1917.0</td><td>112.0</td><td>360.0</td><td>0.0</td><td>&quot;Rural&quot;</td><td>&quot;N&quot;</td></tr><tr><td>17</td><td>&quot;LP001068&quot;</td><td>&quot;Male&quot;</td><td>&quot;Yes&quot;</td><td>&quot;0&quot;</td><td>&quot;Graduate&quot;</td><td>&quot;No&quot;</td><td>2799.0</td><td>2253.0</td><td>122.0</td><td>360.0</td><td>1.0</td><td>&quot;Semiurban&quot;</td><td>&quot;Y&quot;</td></tr><tr><td>18</td><td>&quot;LP001073&quot;</td><td>&quot;Male&quot;</td><td>&quot;Yes&quot;</td><td>&quot;2&quot;</td><td>&quot;Not Graduate&quot;</td><td>&quot;No&quot;</td><td>4226.0</td><td>1040.0</td><td>null</td><td>360.0</td><td>1.0</td><td>&quot;Urban&quot;</td><td>&quot;Y&quot;</td></tr><tr><td>19</td><td>&quot;LP001086&quot;</td><td>&quot;Male&quot;</td><td>&quot;No&quot;</td><td>&quot;0&quot;</td><td>&quot;Not Graduate&quot;</td><td>&quot;No&quot;</td><td>1442.0</td><td>0.0</td><td>35.0</td><td>360.0</td><td>1.0</td><td>&quot;Urban&quot;</td><td>&quot;N&quot;</td></tr><tr><td>20</td><td>&quot;LP001087&quot;</td><td>&quot;Female&quot;</td><td>&quot;No&quot;</td><td>&quot;2&quot;</td><td>&quot;Graduate&quot;</td><td>null</td><td>3750.0</td><td>2083.0</td><td>120.0</td><td>360.0</td><td>1.0</td><td>&quot;Semiurban&quot;</td><td>&quot;Y&quot;</td></tr><tr><td>21</td><td>&quot;LP001095&quot;</td><td>&quot;Male&quot;</td><td>&quot;No&quot;</td><td>&quot;0&quot;</td><td>&quot;Graduate&quot;</td><td>&quot;No&quot;</td><td>3167.0</td><td>0.0</td><td>74.0</td><td>360.0</td><td>1.0</td><td>&quot;Urban&quot;</td><td>&quot;N&quot;</td></tr><tr><td>22</td><td>&quot;LP001097&quot;</td><td>&quot;Male&quot;</td><td>&quot;No&quot;</td><td>&quot;1&quot;</td><td>&quot;Graduate&quot;</td><td>&quot;Yes&quot;</td><td>4692.0</td><td>0.0</td><td>106.0</td><td>360.0</td><td>1.0</td><td>&quot;Rural&quot;</td><td>&quot;N&quot;</td></tr><tr><td>23</td><td>&quot;LP001098&quot;</td><td>&quot;Male&quot;</td><td>&quot;Yes&quot;</td><td>&quot;0&quot;</td><td>&quot;Graduate&quot;</td><td>&quot;No&quot;</td><td>3500.0</td><td>1667.0</td><td>114.0</td><td>360.0</td><td>1.0</td><td>&quot;Semiurban&quot;</td><td>&quot;Y&quot;</td></tr><tr><td>24</td><td>&quot;LP001109&quot;</td><td>&quot;Male&quot;</td><td>&quot;Yes&quot;</td><td>&quot;0&quot;</td><td>&quot;Graduate&quot;</td><td>&quot;No&quot;</td><td>1828.0</td><td>1330.0</td><td>100.0</td><td>null</td><td>0.0</td><td>&quot;Urban&quot;</td><td>&quot;N&quot;</td></tr></tbody></table></div>"
      ],
      "text/plain": [
       "shape: (25, 14)\n",
       "┌─────┬──────────┬────────┬─────────┬───┬──────────────┬──────────────┬──────────────┬─────────────┐\n",
       "│ ID  ┆ Loan_ID  ┆ Gender ┆ Married ┆ … ┆ Loan_Amount_ ┆ Credit_Histo ┆ Property_Are ┆ Loan_Status │\n",
       "│ --- ┆ ---      ┆ ---    ┆ ---     ┆   ┆ Term         ┆ ry           ┆ a            ┆ ---         │\n",
       "│ i64 ┆ str      ┆ str    ┆ str     ┆   ┆ ---          ┆ ---          ┆ ---          ┆ str         │\n",
       "│     ┆          ┆        ┆         ┆   ┆ f64          ┆ f64          ┆ str          ┆             │\n",
       "╞═════╪══════════╪════════╪═════════╪═══╪══════════════╪══════════════╪══════════════╪═════════════╡\n",
       "│ 0   ┆ LP001003 ┆ Male   ┆ Yes     ┆ … ┆ 360.0        ┆ 1.0          ┆ Rural        ┆ N           │\n",
       "│ 1   ┆ LP001005 ┆ Male   ┆ Yes     ┆ … ┆ 360.0        ┆ 1.0          ┆ Urban        ┆ Y           │\n",
       "│ 2   ┆ LP001006 ┆ Male   ┆ Yes     ┆ … ┆ 360.0        ┆ 1.0          ┆ Urban        ┆ Y           │\n",
       "│ 3   ┆ LP001008 ┆ Male   ┆ No      ┆ … ┆ 360.0        ┆ 1.0          ┆ Urban        ┆ Y           │\n",
       "│ …   ┆ …        ┆ …      ┆ …       ┆ … ┆ …            ┆ …            ┆ …            ┆ …           │\n",
       "│ 21  ┆ LP001095 ┆ Male   ┆ No      ┆ … ┆ 360.0        ┆ 1.0          ┆ Urban        ┆ N           │\n",
       "│ 22  ┆ LP001097 ┆ Male   ┆ No      ┆ … ┆ 360.0        ┆ 1.0          ┆ Rural        ┆ N           │\n",
       "│ 23  ┆ LP001098 ┆ Male   ┆ Yes     ┆ … ┆ 360.0        ┆ 1.0          ┆ Semiurban    ┆ Y           │\n",
       "│ 24  ┆ LP001109 ┆ Male   ┆ Yes     ┆ … ┆ null         ┆ 0.0          ┆ Urban        ┆ N           │\n",
       "└─────┴──────────┴────────┴─────────┴───┴──────────────┴──────────────┴──────────────┴─────────────┘"
      ]
     },
     "execution_count": 33,
     "metadata": {},
     "output_type": "execute_result"
    }
   ],
   "source": [
    "import polars as pl\n",
    "from polars import selectors\n",
    "import matplotlib.pyplot as plt\n",
    "import numpy as np\n",
    "import sklearn.preprocessing as preprocces\n",
    "\n",
    "\n",
    "\n",
    "Dataset = pl.read_csv(\"loan_data_1.csv\", has_header = True, separator = ',')\n",
    "\n",
    "Dataset.select(selectors.string())\n",
    "\n",
    "\n",
    "#Find all the features of the dataset\n",
    "columns = Dataset.columns\n",
    "#Trasnform the columns names to numbers to cmply with numpy indexing\n",
    "columns_encoder = {columns[i]:i for i in range(len(columns))}\n",
    "\n",
    "Dataset_np = Dataset.to_numpy()\n",
    "\n",
    "\n",
    "Dataset.head(25)\n"
   ]
  }
 ],
 "metadata": {
  "kernelspec": {
   "display_name": "Python 3",
   "language": "python",
   "name": "python3"
  },
  "language_info": {
   "codemirror_mode": {
    "name": "ipython",
    "version": 3
   },
   "file_extension": ".py",
   "mimetype": "text/x-python",
   "name": "python",
   "nbconvert_exporter": "python",
   "pygments_lexer": "ipython3",
   "version": "3.12.0"
  }
 },
 "nbformat": 4,
 "nbformat_minor": 2
}
