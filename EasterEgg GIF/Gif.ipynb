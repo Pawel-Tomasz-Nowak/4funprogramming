{
 "cells": [
  {
   "cell_type": "code",
   "execution_count": 9,
   "metadata": {},
   "outputs": [],
   "source": [
    "import cv2\n",
    "import numpy as np\n",
    "import pathlib as path\n",
    "import os\n",
    "dpi = 125\n",
    "fps = 60\n",
    "width = 6.4\n",
    "height =4.8\n",
    "\n",
    "\n",
    "#Zdefiniuj obiekt VideoWrite, z opdowiednim codecc.\n",
    "VideoWriter = cv2.VideoWriter(filename = \"Filmik.avi\", fourcc = cv2.VideoWriter_fourcc(*'MJPG'),\n",
    "                              fps = fps, frameSize = (int(dpi*width), int(dpi*height)))\n",
    "\n",
    "\n",
    "#Zmień katalog  roboczy na katalog z plikami.\n",
    "\n",
    "os.chdir(r\"C:\\Users\\pawel\\OneDrive\\Życie\\Studia\\Matematyka i Analiza Danych, PWr\\Semestr 2\\Programowanie\\Laboratorium\\Listy problemów\\Lista 2\\Klatki\")\n",
    "\n",
    "end = 50\n",
    "for i in range(1,2*end-1,1):\n",
    "\n",
    "    zdjecie_np = cv2.imread(f\"Klatka numer {i}.png\")\n",
    "    \n",
    "    VideoWriter.write(zdjecie_np)\n",
    "\n",
    "VideoWriter.release()\n"
   ]
  },
  {
   "cell_type": "code",
   "execution_count": 10,
   "metadata": {},
   "outputs": [
    {
     "name": "stdout",
     "output_type": "stream",
     "text": [
      "MoviePy - Building file Gifek.gif with imageio.\n"
     ]
    },
    {
     "name": "stderr",
     "output_type": "stream",
     "text": [
      "                                                             \r"
     ]
    }
   ],
   "source": [
    "from moviepy.editor import VideoFileClip\n",
    "#Tę sciężkę również zmień na wybrany w sekcji 1. katalog roboczy.\n",
    "os.chdir(r\"C:\\Users\\pawel\\OneDrive\\Życie\\Studia\\Matematyka i Analiza Danych, PWr\\Semestr 2\\Programowanie\\Laboratorium\\Listy problemów\\Lista 2\")\n",
    "\n",
    "Filmik = VideoFileClip(\"Filmik.avi\")\n",
    "Filmik.write_gif(\"Gifek.gif\")\n"
   ]
  }
 ],
 "metadata": {
  "kernelspec": {
   "display_name": "Python 3",
   "language": "python",
   "name": "python3"
  },
  "language_info": {
   "codemirror_mode": {
    "name": "ipython",
    "version": 3
   },
   "file_extension": ".py",
   "mimetype": "text/x-python",
   "name": "python",
   "nbconvert_exporter": "python",
   "pygments_lexer": "ipython3",
   "version": "3.12.0"
  }
 },
 "nbformat": 4,
 "nbformat_minor": 2
}
