{
 "cells": [
  {
   "cell_type": "code",
   "execution_count": 13,
   "metadata": {},
   "outputs": [
    {
     "name": "stdout",
     "output_type": "stream",
     "text": [
      "8095.199951093272\n"
     ]
    }
   ],
   "source": [
    "import numpy as np\n",
    "import pickle\n",
    "\n",
    "def ComputeTheGradient(X0:np.array, x1:np.array, x2:np.array, h:float):\n",
    "\n",
    "    gradient = []\n",
    "\n",
    "    #The n value, which is integer by the way, tells you of how many variable the cost function is.\n",
    "    #For example: When n =2, the cost function is bivariable.\n",
    "    n = X0.shape[0]\n",
    "\n",
    "\n",
    "\n",
    "    for ith_var in range(n):\n",
    "        New_x0 = X0.copy()\n",
    "        New_x0[ith_var] += h\n",
    "        gradient.append     ((cost_function(linear_model( x1, New_x0), x2) - cost_function(linear_model(x1, X0), x2))/h)\n",
    "\n",
    "\n",
    "    return np.array(gradient, dtype = np.float32)\n",
    "        \n",
    "\n",
    "\n",
    "\n",
    "\n",
    "\n",
    "def Gradient_Descent(N0:int, x1, x2, guess:np.array):\n",
    "\n",
    "    #Select the learning rate randomly:\n",
    "    lr = 0.001\n",
    "\n",
    "\n",
    "    for i in range(N0):\n",
    "        Gradient = ComputeTheGradient(guess, x1, x2, h = 0.0001 )\n",
    "        guess = guess - lr* Gradient\n",
    "    \n",
    "    return guess\n",
    "\n",
    "    \n",
    "\n",
    "\n",
    "\n",
    "\n",
    "file_for_numpy_data = open('Numpy_Data', mode = \"rb\")\n",
    "\n",
    "dane = pickle.load(file_for_numpy_data)\n",
    "\n",
    "\n",
    "#Define the linear regression model Y = p1 + p2*X, where p1, p2 are the parameters of the function.\n",
    "\n",
    "linear_model = lambda X, P:  P[0] + P[1]*X\n",
    "\n",
    "\n",
    "#Define the cost function.\n",
    "#X - independent variable\n",
    "#Y - dependent variable (Y is dependent on X variable)\n",
    "cost_function = lambda Y_pred, Y_exact:  (np.sum((Y_pred - Y_exact)**2))**(1/2)\n",
    "\n",
    "initial_guess = np.array([-52, 32], dtype = np.float32)\n",
    "\n",
    "\n",
    "minimizing_parm = Gradient_Descent(5000, dane[:, 0], dane[:, 1], initial_guess)\n",
    "\n",
    "print( cost_function( linear_model( dane[:, 0], minimizing_parm), dane[:, 1]))\n",
    "\n"
   ]
  }
 ],
 "metadata": {
  "kernelspec": {
   "display_name": "Python 3",
   "language": "python",
   "name": "python3"
  },
  "language_info": {
   "codemirror_mode": {
    "name": "ipython",
    "version": 3
   },
   "file_extension": ".py",
   "mimetype": "text/x-python",
   "name": "python",
   "nbconvert_exporter": "python",
   "pygments_lexer": "ipython3",
   "version": "3.12.0"
  }
 },
 "nbformat": 4,
 "nbformat_minor": 2
}
