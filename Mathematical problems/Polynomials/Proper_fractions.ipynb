{
 "cells": [
  {
   "cell_type": "code",
   "execution_count": 14,
   "metadata": {},
   "outputs": [
    {
     "name": "stdout",
     "output_type": "stream",
     "text": [
      "{A: -2/25, B: 6/25, C: 1/5, D: -3/5, E: 2/25}\n"
     ]
    },
    {
     "data": {
      "text/latex": [
       "$\\displaystyle \\frac{x^{2} - 1}{\\left(x + 3\\right) \\left(x^{2} + 1\\right)^{2}} = \\frac{E}{x + 3} + \\frac{A x + B}{x^{2} + 1} + \\frac{C x + D}{\\left(x^{2} + 1\\right)^{2}}$"
      ],
      "text/plain": [
       "Eq((x**2 - 1)/((x + 3)*(x**2 + 1)**2), E/(x + 3) + (A*x + B)/(x**2 + 1) + (C*x + D)/(x**2 + 1)**2)"
      ]
     },
     "execution_count": 14,
     "metadata": {},
     "output_type": "execute_result"
    }
   ],
   "source": [
    "import sympy as smp\n",
    "\n",
    "\n",
    "x = smp.symbols('x')\n",
    "\n",
    "A, B, C, D, E = smp.symbols('A, B, C, D, E')\n",
    "\n",
    "\n",
    "\n",
    "lhs = (x**2 -1)/((x**2+1)**2 * (x+3))\n",
    "\n",
    "rhs = (A*x + B)/(x**2+1) + (C*x+D)/(x**2+1)**2  + E/(x+3)\n",
    "\n",
    "\n",
    "Equation = smp.Eq(lhs, rhs)\n",
    "\n",
    "print(smp.solve(Equation, A, B, C, D, E))\n",
    "Equation"
   ]
  },
  {
   "cell_type": "code",
   "execution_count": 54,
   "metadata": {},
   "outputs": [
    {
     "name": "stdout",
     "output_type": "stream",
     "text": [
      "-1 AND -1\n",
      "-1 OR -1\n",
      "-1 AND 1\n",
      "-1 OR 1\n",
      "1 AND -1\n",
      "1 OR -1\n",
      "1 AND 1\n",
      "1 OR 1\n"
     ]
    }
   ],
   "source": [
    "operator = {'OR', 'AND'}\n",
    "\n",
    "zdanie = [-1, 1]\n",
    "\n",
    "\n",
    "for a1 in zdanie:\n",
    "    for a2 in zdanie:\n",
    "        for sym in operator:\n",
    "            print(f\"{a1} {sym} {a2}\")"
   ]
  },
  {
   "cell_type": "code",
   "execution_count": 2,
   "metadata": {},
   "outputs": [
    {
     "name": "stdout",
     "output_type": "stream",
     "text": [
      "[[ 2. -1.  0.  0.]\n",
      " [-1.  2. -1.  0.]\n",
      " [ 0. -1.  2. -1.]\n",
      " [ 0.  0. -1.  1.]]\n"
     ]
    }
   ],
   "source": [
    "import numpy as  np\n",
    "\n",
    "\n",
    "array = np.array([1,1,1,1,1,2,2,2, 1,2,3,3, 1,2,3,4]).reshape(4,4)\n",
    "\n",
    "\n",
    "print(np.linalg.inv(array))"
   ]
  },
  {
   "cell_type": "code",
   "execution_count": null,
   "metadata": {},
   "outputs": [],
   "source": []
  }
 ],
 "metadata": {
  "kernelspec": {
   "display_name": "Python 3",
   "language": "python",
   "name": "python3"
  },
  "language_info": {
   "codemirror_mode": {
    "name": "ipython",
    "version": 3
   },
   "file_extension": ".py",
   "mimetype": "text/x-python",
   "name": "python",
   "nbconvert_exporter": "python",
   "pygments_lexer": "ipython3",
   "version": "3.12.0"
  }
 },
 "nbformat": 4,
 "nbformat_minor": 2
}
