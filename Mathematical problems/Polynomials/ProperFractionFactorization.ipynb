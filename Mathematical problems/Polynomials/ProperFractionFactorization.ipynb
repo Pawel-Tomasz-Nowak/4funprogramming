{
 "cells": [
  {
   "cell_type": "code",
   "execution_count": 44,
   "metadata": {},
   "outputs": [
    {
     "name": "stdout",
     "output_type": "stream",
     "text": [
      "[[5 2 6]\n",
      " [3 1 0]\n",
      " [5 5 5]]\n",
      "[0, 2, 3]\n",
      "0.4\n",
      "0.8\n",
      "-0.6\n"
     ]
    }
   ],
   "source": [
    "import numpy as np\n",
    "\n",
    "def Determinant(Matrix:np.ndarray):\n",
    "    assert type(Matrix) == np.ndarray, \"Im sorry but you can't compute the determinant of a non-ndarray argument\"\n",
    "    assert Matrix.shape[0] == Matrix.shape[1], \"You get only calculate the determinant for square matrices!\"\n",
    "\n",
    "\n",
    "\n",
    "    if Matrix.shape[0] == 1:\n",
    "        return Matrix[0,0]\n",
    "    \n",
    "    det = 0\n",
    "    \n",
    "    for i in range(0,Matrix.shape[0]):\n",
    "        minor =  Determinant(np.delete(np.delete(Matrix, i, axis = 0), 0, axis = 1))\n",
    "        det += Matrix[i,0]*(-1)**(0+i) * minor\n",
    "\n",
    "    \n",
    "    return det\n",
    "\n",
    "    \n",
    "\n",
    "def SolveLinearSystem(Eqs: np.ndarray, intercepts:np.ndarray):\n",
    "    assert type(Eqs) == np.ndarray, \"You should convert the Eqs datatype to numpy.ndarray\"\n",
    "    assert type(intercepts) == np.ndarray, \"You should convert the Intercepts datatype to numpy.ndarray\"\n",
    "\n",
    "    assert Eqs.shape[1]==Eqs.shape[0], \"The dimensions of the Eqs  need to match\"\n",
    "    assert intercepts.shape[0] == Eqs.shape[0] and intercepts.ndim == 1, \"The dimensions of the Eqs  need to match\"\n",
    "\n",
    "\n",
    "    SystemDeterminant = Determinant(Eqs)\n",
    "\n",
    "\n",
    "    if SystemDeterminant != 0:\n",
    "        for i in range(Eqs.shape[0]):\n",
    "            var_matrix = Eqs.copy()\n",
    "            var_matrix[:, i] = intercepts\n",
    "\n",
    "\n",
    "            solution = Determinant(var_matrix)/SystemDeterminant\n",
    "\n",
    "            print(solution)\n",
    "\n",
    "\n",
    "\n",
    "\n",
    "\n",
    "\n",
    "\n",
    "\n"
   ]
  }
 ],
 "metadata": {
  "kernelspec": {
   "display_name": "Python 3",
   "language": "python",
   "name": "python3"
  },
  "language_info": {
   "codemirror_mode": {
    "name": "ipython",
    "version": 3
   },
   "file_extension": ".py",
   "mimetype": "text/x-python",
   "name": "python",
   "nbconvert_exporter": "python",
   "pygments_lexer": "ipython3",
   "version": "3.12.0"
  }
 },
 "nbformat": 4,
 "nbformat_minor": 2
}
