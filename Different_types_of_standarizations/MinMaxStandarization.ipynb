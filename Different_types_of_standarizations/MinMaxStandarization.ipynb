{
 "cells": [
  {
   "cell_type": "code",
   "execution_count": 30,
   "metadata": {},
   "outputs": [
    {
     "data": {
      "text/plain": [
       "array([2.14351852, 2.20277778, 2.33728814, 2.29027778])"
      ]
     },
     "execution_count": 30,
     "metadata": {},
     "output_type": "execute_result"
    }
   ],
   "source": [
    "import sklearn.datasets as datasets\n",
    "from sklearn.preprocessing import MinMaxScaler\n",
    "\n",
    "dane = datasets.load_iris()['data']\n",
    "standarizator = MinMaxScaler(feature_range = (0, 5))\n",
    "\n",
    "standarizator.fit(X = dane)\n",
    "\n",
    "data_standarized = standarizator.transform(dane).mean(axis = 0)\n",
    "data_standarized\n",
    "\n"
   ]
  }
 ],
 "metadata": {
  "kernelspec": {
   "display_name": "Python 3",
   "language": "python",
   "name": "python3"
  },
  "language_info": {
   "name": "python",
   "version": "3.12.0"
  }
 },
 "nbformat": 4,
 "nbformat_minor": 2
}
