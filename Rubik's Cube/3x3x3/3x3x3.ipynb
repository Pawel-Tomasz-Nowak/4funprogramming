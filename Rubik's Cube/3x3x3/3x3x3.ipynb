{
 "cells": [
  {
   "cell_type": "code",
   "execution_count": 31,
   "metadata": {},
   "outputs": [
    {
     "ename": "NameError",
     "evalue": "name 'Ściana' is not defined",
     "output_type": "error",
     "traceback": [
      "\u001b[1;31m---------------------------------------------------------------------------\u001b[0m",
      "\u001b[1;31mNameError\u001b[0m                                 Traceback (most recent call last)",
      "Cell \u001b[1;32mIn[31], line 3\u001b[0m\n\u001b[0;32m      1\u001b[0m \u001b[38;5;28;01mimport\u001b[39;00m \u001b[38;5;21;01mnumpy\u001b[39;00m \u001b[38;5;28;01mas\u001b[39;00m \u001b[38;5;21;01mnp\u001b[39;00m\n\u001b[1;32m----> 3\u001b[0m \u001b[38;5;28;43;01mclass\u001b[39;49;00m\u001b[43m \u001b[49m\u001b[38;5;21;43;01mŚciana\u001b[39;49;00m\u001b[43m(\u001b[49m\u001b[43m)\u001b[49m\u001b[43m:\u001b[49m\n\u001b[0;32m      4\u001b[0m \u001b[43m    \u001b[49m\u001b[43mŚciany\u001b[49m\u001b[43m \u001b[49m\u001b[38;5;241;43m=\u001b[39;49m\u001b[43m \u001b[49m\u001b[43mnp\u001b[49m\u001b[38;5;241;43m.\u001b[39;49m\u001b[43mzeros\u001b[49m\u001b[43m(\u001b[49m\u001b[43mshape\u001b[49m\u001b[43m \u001b[49m\u001b[38;5;241;43m=\u001b[39;49m\u001b[43m \u001b[49m\u001b[43m(\u001b[49m\u001b[38;5;241;43m6\u001b[39;49m\u001b[43m)\u001b[49m\u001b[43m,\u001b[49m\u001b[43m \u001b[49m\u001b[43mdtype\u001b[49m\u001b[43m \u001b[49m\u001b[38;5;241;43m=\u001b[39;49m\u001b[43m \u001b[49m\u001b[43mŚciana\u001b[49m\u001b[43m)\u001b[49m\n\u001b[0;32m      8\u001b[0m \u001b[43m    \u001b[49m\u001b[38;5;28;43;01mdef\u001b[39;49;00m\u001b[43m \u001b[49m\u001b[38;5;21;43m__init__\u001b[39;49m\u001b[43m(\u001b[49m\u001b[38;5;28;43mself\u001b[39;49m\u001b[43m,\u001b[49m\u001b[43m \u001b[49m\u001b[43mcentr\u001b[49m\u001b[43m:\u001b[49m\u001b[38;5;28;43mint\u001b[39;49m\u001b[43m)\u001b[49m\u001b[43m:\u001b[49m\n",
      "Cell \u001b[1;32mIn[31], line 4\u001b[0m, in \u001b[0;36mŚciana\u001b[1;34m()\u001b[0m\n\u001b[0;32m      3\u001b[0m \u001b[38;5;28;01mclass\u001b[39;00m \u001b[38;5;21;01mŚciana\u001b[39;00m():\n\u001b[1;32m----> 4\u001b[0m     Ściany \u001b[38;5;241m=\u001b[39m np\u001b[38;5;241m.\u001b[39mzeros(shape \u001b[38;5;241m=\u001b[39m (\u001b[38;5;241m6\u001b[39m), dtype \u001b[38;5;241m=\u001b[39m \u001b[43mŚciana\u001b[49m)\n\u001b[0;32m      8\u001b[0m     \u001b[38;5;28;01mdef\u001b[39;00m \u001b[38;5;21m__init__\u001b[39m(\u001b[38;5;28mself\u001b[39m, centr:\u001b[38;5;28mint\u001b[39m):\n\u001b[0;32m      9\u001b[0m \u001b[38;5;250m        \u001b[39m\u001b[38;5;124;03m\"\"\"Funkcja inicjalizująca obiekt będący reprezentantem klasy ścianka.\u001b[39;00m\n\u001b[0;32m     10\u001b[0m \u001b[38;5;124;03m        Liczba centr oznacza kolor, zgodnie z kodowaniem zawartym w dokumentacji. Zakładamy, że\u001b[39;00m\n\u001b[0;32m     11\u001b[0m \u001b[38;5;124;03m        ścianka jest wypełniona tymi sam kolorem\"\"\"\u001b[39;00m\n",
      "\u001b[1;31mNameError\u001b[0m: name 'Ściana' is not defined"
     ]
    }
   ],
   "source": [
    "import numpy as np\n",
    "\n",
    "class Ściana():\n",
    "    Ściany = np.zeros(shape = (6))\n",
    "    \n",
    "\n",
    "\n",
    "    def __init__(self, centr:int, orient:int):\n",
    "        \"\"\"Funkcja inicjalizująca obiekt będący reprezentantem klasy ścianka.\n",
    "        Liczba centr oznacza kolor, zgodnie z kodowaniem zawartym w dokumentacji. Zakładamy, że\n",
    "        ścianka jest wypełniona tymi sam kolorem\"\"\"\n",
    "        self.sciana = np.full(shape = (3,3),\n",
    "                              fill_value = centr)\n",
    "        self.centr = centr\n",
    "        self.orient = orient\n",
    "        \n",
    "        self.ZnajdźSąsiada()\n",
    "        Ściana[self.centr-1] = self\n",
    "\n",
    "\n",
    "\n",
    "    def ZnajdźSąsiada(self,):\n",
    "        #Znajdź ściankę sąsiądującą. Pary sąsiądów:\n",
    "        #czerwony - pomarańczowy (1-2)\n",
    "        #zielony - niebieski (3-4)\n",
    "        #biały - żółty (5-6)\n",
    "        if self.centr%2 == 0:\n",
    "            self.sąsiad = self.centr - 1\n",
    "        elif self.centr%2  == 1:\n",
    "            self.sąsiad = self.centr +1\n",
    "\n",
    "\n",
    "    def ZnajdźŚcianę(id:int):\n",
    "        return Ściana.Ściany[id-1]\n",
    "    \n",
    "        \n",
    "\n",
    "    \n",
    "\n",
    "\n",
    "\n",
    "\n",
    "\n",
    "\n",
    "\n",
    "\n",
    "\n",
    "        "
   ]
  }
 ],
 "metadata": {
  "kernelspec": {
   "display_name": "Python 3",
   "language": "python",
   "name": "python3"
  },
  "language_info": {
   "codemirror_mode": {
    "name": "ipython",
    "version": 3
   },
   "file_extension": ".py",
   "mimetype": "text/x-python",
   "name": "python",
   "nbconvert_exporter": "python",
   "pygments_lexer": "ipython3",
   "version": "3.12.0"
  }
 },
 "nbformat": 4,
 "nbformat_minor": 2
}
