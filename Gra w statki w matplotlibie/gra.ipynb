{
 "cells": [
  {
   "cell_type": "code",
   "execution_count": 2,
   "metadata": {},
   "outputs": [],
   "source": [
    "import numpy as np\n",
    "import matplotlib.pyplot as plt\n",
    "import matplotlib.patches as patches"
   ]
  },
  {
   "cell_type": "markdown",
   "metadata": {},
   "source": [
    "### Rysowanie planszy, na której będzie rozgrywać się gra."
   ]
  },
  {
   "cell_type": "code",
   "execution_count": 8,
   "metadata": {},
   "outputs": [
    {
     "data": {
      "image/png": "[encoded data removed]",
      "text/plain": [
       "<Figure size 500x500 with 1 Axes>"
      ]
     },
     "metadata": {},
     "output_type": "display_data"
    }
   ],
   "source": [
    "n : int = 15\n",
    "\n",
    "def Upieksz_Plansze(plansza:plt.figure):\n",
    "    osie = plansza.add_subplot(1,1,1)\n",
    "\n",
    "    osie.set_xlim(0, n+1)\n",
    "    osie.set_ylim(-n, n+1)\n",
    "\n",
    "    osie.spines[['top','right']].set_visible(False)\n",
    "\n",
    "    osie.spines[\"bottom\"].set_position((\"data\",0))\n",
    "    osie.spines[\"bottom\"].set_bounds(0 ,n)\n",
    "\n",
    "    osie.spines['left'].set_position(('data',-0.25))\n",
    "    osie.spines[\"left\"].set_bounds(-n ,n)\n",
    "\n",
    "\n",
    "\n",
    "    osie.set_xticks(np.arange(0, n+1, 1))\n",
    "    osie.set_yticks(np.arange(-n, n+1, 1))\n",
    "\n",
    "    osie.grid(True)\n",
    "    osie.tick_params(direction = \"inout\", length = 5)\n",
    "\n",
    "    return osie\n",
    "\n",
    "\n",
    "#Zdefiniuj planszę (w bibliotece pyplot), na której będzie się rozgrywać gra.\n",
    "plansza = plt.figure(\"Plansza\", figsize = [5, 5])\n",
    "\n",
    "osie = Upieksz_Plansze(plansza)\n",
    "  \n",
    "m_statkow = n//2\n",
    "\n",
    "\n",
    "for numer in [0,1]:\n",
    "\n",
    "    for mth_ship in range(m_statkow):\n",
    "        xy = [np.random.randint(0, n-1), np.random.randint(1, n)*(-1)**numer]\n",
    "\n",
    "        rectangle = patches.Rectangle(xy= xy, width = 1, height =1,  \n",
    "                                    color = (\"red\" if numer == 1 else (\"blue\" if numer == 0 else \"black\")))\n",
    "        osie.add_patch(rectangle)"
   ]
  },
  {
   "cell_type": "markdown",
   "metadata": {},
   "source": [
    "### Tworzenie klas do gry."
   ]
  },
  {
   "cell_type": "code",
   "execution_count": 4,
   "metadata": {},
   "outputs": [],
   "source": [
    "#Zdefiniuj ogólną klasę, opisującą uniwersalne cechy statków takie jak:\n",
    "#Ilość punktów życia  - HP [ Health points]\n",
    "#Ilość zadawanych punktów obrażeń - DMGP  [Damage points]\n",
    "#Ilość pancerza -A [Armour]\n",
    "#Pozycja na mapie -(x,y)\n",
    "#Przynależność do danego gracza - P [Player]\n",
    "#Długość - L [length] - ilośc pól zajmowanych przez statek.\n",
    "\n",
    "#Zdefiniuj rozmiary planszy: \n",
    "#n (kratek) x 2n [kratek]\n",
    "\n",
    "class Ship():\n",
    "    def __init__(self, HP:float, DMGP:float, A:float, \n",
    "                 pos:tuple, P:int):\n",
    "        self.HP = float\n",
    "        self.DMGP = DMGP\n",
    "        self.A = A\n",
    "        self.x, self.y = pos\n",
    "        self.P = P\n",
    "        \n",
    "\n",
    "\n",
    "        Ship.check_if_exists(self.x, self.y, self)\n",
    "\n",
    "    #Poniższa metoda jest wywoływana bezpośrednio po inicjalizacji obiektu. \n",
    "    #Jeżeli okaże się, że na pozycji (x,y) znajduje się już inny statek, nie należy tworzyć w tym samym miejscu statku.\n",
    "    def check_if_exists(x:int, y:int, ship):\n",
    "\n",
    "        if not isinstance(ships_local[x, y], Ship) and 0 <= x <= n-1 and 0 <= y <=n-1:\n",
    "            ships_local[x, y] = ship\n",
    "\n",
    "            \n",
    "\n",
    "        else:\n",
    "            del ship\n",
    "\n",
    "    def add_ship_to_board(self, axes: plt.axes):\n",
    "        prostokat = patches.Rectangle(xy = [self.x, self.y], width = 1, height = 1, \n",
    "                                      color = \"red\" if self.P == 1 else \"blue\")\n",
    "        \n",
    "        \n",
    "        \n",
    "        \n",
    "\n",
    "\n",
    "           \n",
    "\n",
    "    \n",
    "\n",
    "ships_local = np.zeros(shape = (n, 2*n), dtype = Ship)"
   ]
  }
 ],
 "metadata": {
  "kernelspec": {
   "display_name": "Python 3",
   "language": "python",
   "name": "python3"
  },
  "language_info": {
   "codemirror_mode": {
    "name": "ipython",
    "version": 3
   },
   "file_extension": ".py",
   "mimetype": "text/x-python",
   "name": "python",
   "nbconvert_exporter": "python",
   "pygments_lexer": "ipython3",
   "version": "3.12.0"
  }
 },
 "nbformat": 4,
 "nbformat_minor": 2
}
