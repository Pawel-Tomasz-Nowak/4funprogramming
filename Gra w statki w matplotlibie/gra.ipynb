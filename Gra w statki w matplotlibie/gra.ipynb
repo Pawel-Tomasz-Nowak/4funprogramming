{
 "cells": [
  {
   "cell_type": "code",
   "execution_count": 32,
   "metadata": {},
   "outputs": [
    {
     "ename": "IndentationError",
     "evalue": "expected an indented block after 'else' statement on line 37 (476267088.py, line 44)",
     "output_type": "error",
     "traceback": [
      "\u001b[1;36m  Cell \u001b[1;32mIn[32], line 44\u001b[1;36m\u001b[0m\n\u001b[1;33m    ships_local = np.zeros(shape = (n, 2*n), dtype = Ship)\u001b[0m\n\u001b[1;37m                                                          ^\u001b[0m\n\u001b[1;31mIndentationError\u001b[0m\u001b[1;31m:\u001b[0m expected an indented block after 'else' statement on line 37\n"
     ]
    }
   ],
   "source": [
    "import numpy as np\n",
    "\n",
    "#Zdefiniuj ogólną klasę, opisującą uniwersalne cechy statków takie jak:\n",
    "#Ilość punktów życia  - HP [ Health points]\n",
    "#Ilość zadawanych punktów obrażeń - DMGP  [Damage points]\n",
    "#Ilość pancerza -A [Armour]\n",
    "#Pozycja na mapie -(x,y)\n",
    "#Przynależność do danego gracza - P [Player]\n",
    "#Długość - L [length] - ilośc pól zajmowanych przez statek.\n",
    "\n",
    "#Zdefiniuj rozmiary planszy: \n",
    "#n (kratek) x 2n [kratek]\n",
    "\n",
    "n: int = 10\n",
    "\n",
    "\n",
    "class Ship():\n",
    "    def __init__(self, HP:float, DMGP:float, A:float, \n",
    "                 pos:tuple, P:int):\n",
    "        self.HP = float\n",
    "        self.DMGP = DMGP\n",
    "        self.A = A\n",
    "        self.x, self.y = pos\n",
    "        self.P = P\n",
    "        \n",
    "\n",
    "\n",
    "        Ship.check_if_exists(self.x, self.y, self)\n",
    "\n",
    "\n",
    "    def check_if_exists(x:int, y:int, ship):\n",
    "\n",
    "        if not isinstance(ships_local[x, y], Ship):\n",
    "            if 0 <= x <= n-1 and 0 <= y <=n-1:\n",
    "                ships_local[x, y] = ship\n",
    "\n",
    "            else:\n",
    "                return -2\n",
    "            \n",
    "        else:\n",
    "            return -1\n",
    "                \n",
    "\n",
    "\n",
    "\n",
    "\n",
    "        \n",
    "ships_local = np.zeros(shape = (n, 2*n), dtype = Ship)\n",
    "\n",
    "Ship_test = Ship(100, 50, 25, (1, 1), -1)\n",
    "Ship_test = Ship(100, 50, 25, (1, 1), -1)\n",
    "\n",
    "\n",
    "\n"
   ]
  },
  {
   "cell_type": "code",
   "execution_count": null,
   "metadata": {},
   "outputs": [],
   "source": []
  }
 ],
 "metadata": {
  "kernelspec": {
   "display_name": "Python 3",
   "language": "python",
   "name": "python3"
  },
  "language_info": {
   "codemirror_mode": {
    "name": "ipython",
    "version": 3
   },
   "file_extension": ".py",
   "mimetype": "text/x-python",
   "name": "python",
   "nbconvert_exporter": "python",
   "pygments_lexer": "ipython3",
   "version": "3.12.0"
  }
 },
 "nbformat": 4,
 "nbformat_minor": 2
}
